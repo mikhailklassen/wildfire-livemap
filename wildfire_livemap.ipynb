{
 "cells": [
  {
   "cell_type": "markdown",
   "id": "32ae1cf3-5323-41ff-bcb4-6d7b5ceacd80",
   "metadata": {},
   "source": [
    "## FIRMS API configuration"
   ]
  },
  {
   "cell_type": "code",
   "execution_count": 18,
   "id": "d5f2db5b-b100-4ed4-b453-90639c11adae",
   "metadata": {},
   "outputs": [],
   "source": [
    "API_KEY = \"b3b38f287a8ba9db57fac29012ed1e9c\"\n",
    "FIRMS_URL = f\"https://firms.modaps.eosdis.nasa.gov/api/country/csv/{API_KEY}/VIIRS_NOAA21_NRT/USA/2\""
   ]
  },
  {
   "cell_type": "code",
   "execution_count": 13,
   "id": "ead78cc6",
   "metadata": {},
   "outputs": [],
   "source": [
    "import pandas as pd\n",
    "from ipyleaflet import Map,GeoData\n",
    "from apscheduler.schedulers.background import BackgroundScheduler\n",
    "from IPython.display import display, clear_output\n",
    "import geopandas\n",
    "# Create a map centered around the USA\n",
    "map = Map(center=(37.0902, -95.7129), zoom=4)"
   ]
  },
  {
   "cell_type": "markdown",
   "id": "c32a10a4-dc68-44cf-9c2a-dac39a97871f",
   "metadata": {},
   "source": [
    "## Function to fetch and process data into a DataFrame"
   ]
  },
  {
   "cell_type": "code",
   "execution_count": 14,
   "id": "56100fd7-b241-45ab-981f-c86cf3e24fdc",
   "metadata": {},
   "outputs": [],
   "source": [
    "def fetch_and_process_fire_data():\n",
    "    df=pd.read_csv(FIRMS_URL)\n",
    "    df_subset= df[['latitude','longitude','bright_ti4','acq_date','acq_time','confidence','frp']]\n",
    "    filtered_df=df_subset[df_subset['confidence']!='l']\n",
    "    geodf=geopandas.GeoDataFrame(\n",
    "    filtered_df, geometry=geopandas.points_from_xy(filtered_df.longitude, filtered_df.latitude))\n",
    "    return geodf"
   ]
  },
  {
   "cell_type": "markdown",
   "id": "b398d9d7",
   "metadata": {},
   "source": [
    "## Function to schedule the task"
   ]
  },
  {
   "cell_type": "code",
   "execution_count": 15,
   "id": "d1d1cf4a",
   "metadata": {},
   "outputs": [
    {
     "data": {
      "application/vnd.jupyter.widget-view+json": {
       "model_id": "da035d5c54c341bfbd3de84be5203e54",
       "version_major": 2,
       "version_minor": 0
      },
      "text/plain": [
       "Map(center=[37.0902, -95.7129], controls=(ZoomControl(options=['position', 'zoom_in_text', 'zoom_in_title', 'z…"
      ]
     },
     "metadata": {},
     "output_type": "display_data"
    }
   ],
   "source": [
    "def scheduled_task():\n",
    "    gdf=fetch_and_process_fire_data()\n",
    "    # print(gdf.tail())\n",
    "    # Clear previous output and display the updated map\n",
    "    clear_output(wait=True)\n",
    "    \n",
    "    geo_data = GeoData(geo_dataframe = gdf)\n",
    "    # Add new data to the leaflet map\n",
    "    map.add(geo_data)\n",
    "    \n",
    "    # Display the updated map\n",
    "    display(map)\n"
   ]
  },
  {
   "cell_type": "markdown",
   "id": "3cb30d9e",
   "metadata": {},
   "source": [
    "## Set up Scheduler"
   ]
  },
  {
   "cell_type": "code",
   "execution_count": null,
   "id": "85d31d28",
   "metadata": {},
   "outputs": [],
   "source": [
    "scheduler = BackgroundScheduler()\n",
    "scheduler.add_job(scheduled_task, 'interval', minutes=1)  # Fetch every minute\n",
    "scheduler.start()\n",
    "# Display the initial map\n",
    "scheduled_task()"
   ]
  },
  {
   "cell_type": "code",
   "execution_count": null,
   "id": "c72e12b1",
   "metadata": {},
   "outputs": [],
   "source": [
    "# Keep the Jupyter Notebook running so that APScheduler can execute tasks\n",
    "import time\n",
    "while True:\n",
    "    time.sleep(1)"
   ]
  }
 ],
 "metadata": {
  "kernelspec": {
   "display_name": "firms-data",
   "language": "python",
   "name": "python3"
  },
  "language_info": {
   "codemirror_mode": {
    "name": "ipython",
    "version": 3
   },
   "file_extension": ".py",
   "mimetype": "text/x-python",
   "name": "python",
   "nbconvert_exporter": "python",
   "pygments_lexer": "ipython3",
   "version": "3.13.0"
  }
 },
 "nbformat": 4,
 "nbformat_minor": 5
}
