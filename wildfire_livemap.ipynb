{
 "cells": [
  {
   "cell_type": "markdown",
   "id": "32ae1cf3-5323-41ff-bcb4-6d7b5ceacd80",
   "metadata": {},
   "source": [
    "## FIRMS API configuration"
   ]
  },
  {
   "cell_type": "code",
   "execution_count": 1,
   "id": "d5f2db5b-b100-4ed4-b453-90639c11adae",
   "metadata": {},
   "outputs": [],
   "source": [
    "API_KEY = \"b3b38f287a8ba9db57fac29012ed1e9c\"\n",
    "FIRMS_URL = f\"https://firms.modaps.eosdis.nasa.gov/api/country/csv/{API_KEY}/VIIRS_NOAA21_NRT/USA/1\""
   ]
  },
  {
   "cell_type": "code",
   "execution_count": 2,
   "id": "ead78cc6",
   "metadata": {},
   "outputs": [],
   "source": [
    "import pandas as pd\n",
    "from ipyleaflet import Map,GeoData\n",
    "from apscheduler.schedulers.background import BackgroundScheduler\n",
    "from IPython.display import display, clear_output\n",
    "import geopandas\n",
    "# Create a map centered around the USA\n",
    "map = Map(center=(37.0902, -95.7129), zoom=4)"
   ]
  },
  {
   "cell_type": "markdown",
   "id": "c32a10a4-dc68-44cf-9c2a-dac39a97871f",
   "metadata": {},
   "source": [
    "## Function to fetch and process data into a DataFrame"
   ]
  },
  {
   "cell_type": "code",
   "execution_count": 3,
   "id": "56100fd7-b241-45ab-981f-c86cf3e24fdc",
   "metadata": {},
   "outputs": [],
   "source": [
    "def fetch_and_process_fire_data():\n",
    "    df=pd.read_csv(FIRMS_URL)\n",
    "    df_subset= df[['latitude','longitude','bright_ti4','acq_date','acq_time','confidence','frp']]\n",
    "    filtered_df=df_subset[df_subset['confidence']!='l']\n",
    "    geodf=geopandas.GeoDataFrame(\n",
    "    filtered_df, geometry=geopandas.points_from_xy(filtered_df.longitude, filtered_df.latitude))\n",
    "    return geodf"
   ]
  },
  {
   "cell_type": "markdown",
   "id": "b398d9d7",
   "metadata": {},
   "source": [
    "## Function to schedule the task"
   ]
  },
  {
   "cell_type": "code",
   "execution_count": null,
   "id": "d1d1cf4a",
   "metadata": {},
   "outputs": [],
   "source": [
    "def scheduled_task():\n",
    "    gdf=fetch_and_process_fire_data()\n",
    "    # print(gdf.tail())\n",
    "    # Clear previous output and display the updated map\n",
    "    clear_output(wait=True)\n",
    "    \n",
    "    geo_data = GeoData(geo_dataframe = gdf)\n",
    "    # Add new data to the leaflet map\n",
    "    map.add(geo_data)\n",
    "    \n",
    "    # Display the updated map\n",
    "    display(map)\n"
   ]
  },
  {
   "cell_type": "markdown",
   "id": "3cb30d9e",
   "metadata": {},
   "source": [
    "## Set up Scheduler"
   ]
  },
  {
   "cell_type": "code",
   "execution_count": 5,
   "id": "85d31d28",
   "metadata": {},
   "outputs": [
    {
     "data": {
      "application/vnd.jupyter.widget-view+json": {
       "model_id": "435cd72288ed4959a2e60150eaeda786",
       "version_major": 2,
       "version_minor": 0
      },
      "text/plain": [
       "Map(center=[37.0902, -95.7129], controls=(ZoomControl(options=['position', 'zoom_in_text', 'zoom_in_title', 'z…"
      ]
     },
     "metadata": {},
     "output_type": "display_data"
    },
    {
     "name": "stdout",
     "output_type": "stream",
     "text": [
      "     latitude  longitude  bright_ti4    acq_date  acq_time confidence    frp  \\\n",
      "578  46.56181 -112.14559      332.68  2025-01-15      1951          n  11.52   \n",
      "579  46.56547 -112.14744      328.65  2025-01-15      1951          n  11.52   \n",
      "580  46.56695 -112.14050      348.79  2025-01-15      1951          n  64.98   \n",
      "581  46.57059 -112.14239      351.76  2025-01-15      1951          n  27.00   \n",
      "582  47.35494 -101.83327      327.89  2025-01-15      1951          n   2.57   \n",
      "\n",
      "                        geometry  \n",
      "578  POINT (-112.14559 46.56181)  \n",
      "579  POINT (-112.14744 46.56547)  \n",
      "580   POINT (-112.1405 46.56695)  \n",
      "581  POINT (-112.14239 46.57059)  \n",
      "582  POINT (-101.83327 47.35494)  \n"
     ]
    }
   ],
   "source": [
    "scheduler = BackgroundScheduler()\n",
    "scheduler.add_job(scheduled_task, 'interval', minutes=1)  # Fetch every minute\n",
    "scheduler.start()\n",
    "# Display the initial map\n",
    "scheduled_task()"
   ]
  },
  {
   "cell_type": "code",
   "execution_count": null,
   "id": "c72e12b1",
   "metadata": {},
   "outputs": [
    {
     "data": {
      "application/vnd.jupyter.widget-view+json": {
       "model_id": "435cd72288ed4959a2e60150eaeda786",
       "version_major": 2,
       "version_minor": 0
      },
      "text/plain": [
       "Map(center=[37.0902, -95.7129], controls=(ZoomControl(options=['position', 'zoom_in_text', 'zoom_in_title', 'z…"
      ]
     },
     "metadata": {},
     "output_type": "display_data"
    }
   ],
   "source": [
    "# Keep the Jupyter Notebook running so that APScheduler can execute tasks\n",
    "import time\n",
    "while True:\n",
    "    time.sleep(1)"
   ]
  }
 ],
 "metadata": {
  "kernelspec": {
   "display_name": "Python 3 (ipykernel)",
   "language": "python",
   "name": "python3"
  },
  "language_info": {
   "codemirror_mode": {
    "name": "ipython",
    "version": 3
   },
   "file_extension": ".py",
   "mimetype": "text/x-python",
   "name": "python",
   "nbconvert_exporter": "python",
   "pygments_lexer": "ipython3",
   "version": "3.13.0"
  }
 },
 "nbformat": 4,
 "nbformat_minor": 5
}
